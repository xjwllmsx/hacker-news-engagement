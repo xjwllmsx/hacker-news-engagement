{
 "cells": [
  {
   "cell_type": "markdown",
   "id": "b6088a6f",
   "metadata": {},
   "source": [
    "# Exploring Hacker News Posts: Which Hacker News post types and posting times generate the most interaction?\n"
   ]
  },
  {
   "cell_type": "markdown",
   "id": "d87c7feb",
   "metadata": {},
   "source": [
    "[Hacker News](https://news.ycombinator.com/) is a community-driven tech forum. For this project, I analyzed 20,000 submissions from 2015–2017 to see whether Ask HN or Show HN posts spark more discussion, and to discover the best time of day to publish a question.\n"
   ]
  },
  {
   "cell_type": "markdown",
   "id": "e48d7350",
   "metadata": {},
   "source": [
    "## Dataset\n"
   ]
  },
  {
   "cell_type": "markdown",
   "id": "d49e354a",
   "metadata": {},
   "source": [
    "The dataset comes from Kaggle and is titled [Hacker News Posts](https://www.kaggle.com/datasets/hacker-news/hacker-news-posts).\n"
   ]
  },
  {
   "cell_type": "markdown",
   "id": "b0cc8efd",
   "metadata": {},
   "source": [
    "The dataset used in this project has been reduced from almost 300,000 rows to approximately 20,000 rows due to the removal of all submissions that didn't receive any comments and then randomly sampling from the remaining submissions.\n"
   ]
  },
  {
   "cell_type": "markdown",
   "id": "4c92f409",
   "metadata": {},
   "source": [
    "Below are descriptions of the columns:\n",
    "\n",
    "-   `id`: the unique identifier from Hacker News for the post\n",
    "-   `title`: the title of the post\n",
    "-   `url`: the URL that the posts links to, if the post has a URL\n",
    "-   `num_points`: the number of points the post acquired, calculated as the total number of upvotes minus the total number of downvotes\n",
    "-   `num_comments`: the number of comments on the post\n",
    "-   `author`: the username of the person who submitted the post\n",
    "-   `created_at`: the date and time of the post's submission (the time zone is Eastern Time in the US)\n"
   ]
  },
  {
   "cell_type": "markdown",
   "id": "09ff666f",
   "metadata": {},
   "source": [
    "## Data Analysis\n"
   ]
  },
  {
   "cell_type": "markdown",
   "id": "1d7bfc40",
   "metadata": {},
   "source": [
    "On Hacker News, to submit a post with a specific question, users add `Ask HN` to their post titles.\n",
    "\n",
    "Likewise, users add `Show HN` to their post titles to show the Hacker News community a project, product, or something interesting.\n"
   ]
  },
  {
   "cell_type": "markdown",
   "id": "2ea86580",
   "metadata": {},
   "source": [
    "For this project, I will be comparing `Ask HN` and `Show HN` posts to determine:\n",
    "\n",
    "1. Do Ask HN or Show HN receive more comments on average?\n",
    "2. Do posts created at a certain time receive more comments on average?\n"
   ]
  },
  {
   "cell_type": "markdown",
   "id": "25a81e14",
   "metadata": {},
   "source": [
    "## Setup\n"
   ]
  },
  {
   "cell_type": "markdown",
   "id": "4275d741",
   "metadata": {},
   "source": [
    "The code block below imports all the necessary functions, classes and modules for this analysis:\n"
   ]
  },
  {
   "cell_type": "code",
   "execution_count": null,
   "id": "1ebff4f9",
   "metadata": {},
   "outputs": [],
   "source": [
    "# Import Path class from pathlib\n",
    "from pathlib import Path\n",
    "\n",
    "# Import the reader function from the csv module\n",
    "from csv import reader\n",
    "\n",
    "# Import the pprint function from pprint module\n",
    "from pprint import pp\n",
    "\n",
    "# Import the datetime module\n",
    "import datetime as dt"
   ]
  },
  {
   "cell_type": "markdown",
   "id": "477e038a",
   "metadata": {},
   "source": [
    "### Load the Hacker News Dataset\n"
   ]
  },
  {
   "cell_type": "markdown",
   "id": "5de984a9",
   "metadata": {},
   "source": [
    "Using the `reader()` function, open the `hack_news.csv` file:\n"
   ]
  },
  {
   "cell_type": "code",
   "execution_count": null,
   "id": "75265cdd",
   "metadata": {},
   "outputs": [],
   "source": [
    "BASE_DIR = Path.cwd().parent  # Repo root\n",
    "DATA_DIR = BASE_DIR / \"data\"  # Data directory\n",
    "CSV_PATH = DATA_DIR / \"hacker_news.csv\"  # Path to csv file\n",
    "\n",
    "# Open the csv file and save the column headers and data to variables\n",
    "with CSV_PATH.open() as opened_file:\n",
    "    read_file = reader(opened_file)\n",
    "    hn = list(read_file)\n",
    "    hn_header = hn[0]\n",
    "    hn = hn[1:]"
   ]
  },
  {
   "cell_type": "markdown",
   "id": "8dd45ec8",
   "metadata": {},
   "source": [
    "The following prints the column header of the dataset, along with the first five rows:\n"
   ]
  },
  {
   "cell_type": "code",
   "execution_count": null,
   "id": "2f604111",
   "metadata": {},
   "outputs": [],
   "source": [
    "# Print column headers and first five rows of the dataset\n",
    "print(hn_header)\n",
    "pp(hn[:5])"
   ]
  },
  {
   "cell_type": "markdown",
   "id": "e98965de",
   "metadata": {},
   "source": [
    "### Separate “Ask HN” and “Show HN” Submissions\n"
   ]
  },
  {
   "cell_type": "markdown",
   "id": "c0eda1d3",
   "metadata": {},
   "source": [
    "All the `Ask HN` and `Show HN` posts will need to be extracted from the dataset in order to analysis them.\n",
    "\n",
    "The code below iterates through each row of the data, looking for posts that start with `Ask HN` or `Show HN`, and placing those posts into their respective lists:\n"
   ]
  },
  {
   "cell_type": "code",
   "execution_count": null,
   "id": "823a3555",
   "metadata": {},
   "outputs": [],
   "source": [
    "ask_posts = [\n",
    "    row for row in hn if row[1].lower().startswith(\"ask hn\")\n",
    "]  # Contains all 'Ask HN' posts\n",
    "show_posts = [\n",
    "    row for row in hn if row[1].lower().startswith(\"show hn\")\n",
    "]  # Contains all 'Show HN' posts"
   ]
  },
  {
   "cell_type": "markdown",
   "id": "e0e232c4",
   "metadata": {},
   "source": [
    "The `ask_posts` list should now contain all of the posts starting with `Ask HN`. Here are the first five entries of the list:\n"
   ]
  },
  {
   "cell_type": "code",
   "execution_count": null,
   "id": "ecb9896e",
   "metadata": {},
   "outputs": [],
   "source": [
    "pp(ask_posts[:5])"
   ]
  },
  {
   "cell_type": "markdown",
   "id": "21e71c5d",
   "metadata": {},
   "source": [
    "The same should be true for the `show_posts` list - it should only contain posts starting with `Show HN`. Below are the first five entries of the list:\n"
   ]
  },
  {
   "cell_type": "code",
   "execution_count": null,
   "id": "85cfabde",
   "metadata": {},
   "outputs": [],
   "source": [
    "pp(show_posts[:5])"
   ]
  },
  {
   "cell_type": "markdown",
   "id": "173938ff",
   "metadata": {},
   "source": [
    "We can now see how many threads are `Ask HN` posts or `Show HN` posts:\n"
   ]
  },
  {
   "cell_type": "code",
   "execution_count": null,
   "id": "27f22b96",
   "metadata": {},
   "outputs": [],
   "source": [
    "print(f\"Ask HN Posts: {len(ask_posts)}\")\n",
    "print(f\"Show HN Posts: {len(show_posts)}\")"
   ]
  },
  {
   "cell_type": "markdown",
   "id": "f2b03ce2",
   "metadata": {},
   "source": [
    "The above output shows there are 1,744 `Ask HN` posts and 1,162 `Show HN` posts in the dataset.\n"
   ]
  },
  {
   "cell_type": "markdown",
   "id": "c5d5daf4",
   "metadata": {},
   "source": [
    "### Compare Average Comment Counts (Ask HN vs Show HN)\n"
   ]
  },
  {
   "cell_type": "markdown",
   "id": "07340cfc",
   "metadata": {},
   "source": [
    "The next goal is to determine if `Ask HN` posts or `Show HN` posts receive more comments on average.\n",
    "\n",
    "The code block below calculates the average number of comments for both `Ask HN` and `Show HN` posts, then prints the results:\n"
   ]
  },
  {
   "cell_type": "code",
   "execution_count": null,
   "id": "03e8a58d",
   "metadata": {},
   "outputs": [],
   "source": [
    "total_ask_comments = 0  # This will store the number of comments in Ask HN posts\n",
    "total_show_comments = 0  # This will store the number of comments in Show HN posts\n",
    "\n",
    "# Iterate through each row in ask_posts\n",
    "for row in ask_posts:\n",
    "    # Convert the number of comments from a string value into an integer, and save in a variable\n",
    "    num_comments = int(row[4])\n",
    "    # Add num_comments to total_ask_comments\n",
    "    total_ask_comments += num_comments\n",
    "\n",
    "# Iterate through each row in show_posts\n",
    "for row in show_posts:\n",
    "    # Convert the number of comments from a string value into an integer, and save in a variable\n",
    "    num_comments = int(row[4])\n",
    "    # Add num_comments to total_show_comments\n",
    "    total_show_comments += num_comments\n",
    "\n",
    "# Calculate the average number of comments for Ask HN and Show HN posts\n",
    "avg_ask_comments = total_ask_comments / len(ask_posts)\n",
    "avg_show_comments = total_show_comments / len(show_posts)\n",
    "print(f\"Ask HN (n={len(ask_posts)} averaged {avg_ask_comments:.2f})\")\n",
    "print(f\"Show HN (n={len(show_posts)} averaged {avg_show_comments:.2f})\")\n",
    "print(f\"Difference: ≈{(avg_ask_comments - avg_show_comments):.2f} comments\")"
   ]
  },
  {
   "cell_type": "markdown",
   "id": "393731e4",
   "metadata": {},
   "source": [
    "The analysis shows that `Ask HN` threads average 14.04 comments per post, while `Show HN` threads average 10.32. That gap is expected: questions naturally invite advice and back-and-forth discussion, whereas project showcases usually prompt shorter reactions. An Ask post often grows into a layered conversation where commenters offer suggestions, the original poster returns with updates or follow up questions, and participants debate ideas among themselves, quickly boosting the comment count.\n"
   ]
  },
  {
   "cell_type": "markdown",
   "id": "348a1cbb",
   "metadata": {},
   "source": [
    "Since `Ask HN` posts are more likely to receive comments, the remaining analysis will focus on these posts.\n"
   ]
  },
  {
   "cell_type": "markdown",
   "id": "2a23a5ef",
   "metadata": {},
   "source": [
    "### Find the best posting hours for Ask HN Posts\n"
   ]
  },
  {
   "cell_type": "markdown",
   "id": "aa57cfc7",
   "metadata": {},
   "source": [
    "This next part of the analysis will seek to determine if `Ask HN` posts created at a certain time are more likely to attract comments.\n"
   ]
  },
  {
   "cell_type": "markdown",
   "id": "c9f80707",
   "metadata": {},
   "source": [
    "The code block below takes the hour each post in `Ask HN` posts was created and adds it to two dictionaries: one counts the number of times a post was created during the specified hour, and another to tally the number of comments those posts created at each hour received:\n"
   ]
  },
  {
   "cell_type": "code",
   "execution_count": null,
   "id": "5b469aac",
   "metadata": {},
   "outputs": [],
   "source": [
    "counts_by_hour = {}  # This will store the number of ask posts created during each hour of the day\n",
    "comments_by_hour = {}  # This will store the number of comments ask posts created at each hour received\n",
    "result_list = [\n",
    "    [dt.datetime.strptime(row[6], \"%m/%d/%Y %H:%M\"), int(row[4])] for row in ask_posts\n",
    "]  # Contains the date, time, and number of comments for each post\n",
    "\n",
    "# Loop through each row of result_list\n",
    "for row in result_list:\n",
    "    # Extract the hour from the created_at date\n",
    "    hour = dt.datetime.strftime(row[0], \"%H\")\n",
    "    # If hour is not a key in counts_by_hour\n",
    "    if hour not in counts_by_hour:\n",
    "        # Add hour as a key and set the value to 1\n",
    "        counts_by_hour[hour] = 1\n",
    "        # Add hour as a key and set the number of comments as the value\n",
    "        comments_by_hour[hour] = row[1]\n",
    "    # If hour is already a key in counts_by_hour\n",
    "    else:\n",
    "        # Increment the value in counts_by_hour by 1\n",
    "        counts_by_hour[hour] += 1\n",
    "        # Increment the value in comments_by_hour by the number of comments\n",
    "        comments_by_hour[hour] += row[1]\n",
    "\n",
    "# Print dictionaries\n",
    "print(\"Counts by Hour:\", counts_by_hour, \"\\n\")\n",
    "print(\"Comments by Hour:\", comments_by_hour)"
   ]
  },
  {
   "cell_type": "markdown",
   "id": "5fe51f77",
   "metadata": {},
   "source": [
    "With the `counts_by_hour` and `comments_by_hour` dictionaries, the average number of comments for `Ask HN` posts by hour can be calculated:\n"
   ]
  },
  {
   "cell_type": "code",
   "execution_count": null,
   "id": "0ba9b3f4",
   "metadata": {},
   "outputs": [],
   "source": [
    "avg_by_hour = [\n",
    "    [hour, round(comments_by_hour[hour] / counts_by_hour[hour], 2)]\n",
    "    for hour in counts_by_hour\n",
    "]  # This will store the final results\n",
    "\n",
    "pp(avg_by_hour)"
   ]
  },
  {
   "cell_type": "markdown",
   "id": "5b7bbd44",
   "metadata": {},
   "source": [
    "The code block below will sort the `avg_by_hour` list. From this sorted list, the top five hours for `Ask HN` posts comments can be printed:\n"
   ]
  },
  {
   "cell_type": "code",
   "execution_count": null,
   "id": "22d7cc2b",
   "metadata": {},
   "outputs": [],
   "source": [
    "swap_avg_by_hour = [\n",
    "    [row[1], row[0]] for row in avg_by_hour\n",
    "]  # Contains the values from avg_by_hour but swapped for sorting\n",
    "\n",
    "# Sort swap_avg_by_hour by highest average comments per post\n",
    "sorted_swap = sorted(swap_avg_by_hour, reverse=True)\n",
    "\n",
    "# Print results for the top five hours\n",
    "print(\"Top 5 Hours for Ask Posts Comments\")\n",
    "for avg, hour in sorted_swap[:5]:\n",
    "    print(\n",
    "        f\"{dt.datetime.strptime(hour, '%H').strftime('%H:%M')}: {avg:.2f} average comments per post\"\n",
    "    )"
   ]
  },
  {
   "cell_type": "markdown",
   "id": "32f46891",
   "metadata": {},
   "source": [
    "Based on the above results, one could assume that creating an `Ask HN` post on Hacker News at 15:00 (3 p.m.) Eastern Time should have a higher chance of receiving comments.\n"
   ]
  },
  {
   "cell_type": "markdown",
   "id": "ccf9ee36",
   "metadata": {},
   "source": [
    "## Conclusion\n"
   ]
  },
  {
   "cell_type": "markdown",
   "id": "00dd7956",
   "metadata": {},
   "source": [
    "This project set out to discover which kinds of Hacker News posts spark the most discussion and when authors should post to maximize engagement.\n"
   ]
  },
  {
   "cell_type": "markdown",
   "id": "a1c27750",
   "metadata": {},
   "source": [
    "`Ask HN` vs `Show HN`: Questions (“Ask HN”) clearly generate more conversation than showcases (“Show HN”), averaging roughly `14` comments per post compared with about `10`. The interactive nature of a question (community members giving advice, the poster replying with updates, and responders debating among themselves) drives the higher totals.\n"
   ]
  },
  {
   "cell_type": "markdown",
   "id": "623630f8",
   "metadata": {},
   "source": [
    "Timing matters: Within `Ask HN` posts, comment activity is not evenly distributed across the day. The analysis showed a pronounced peak in the early afternoon Eastern Time (around 3 p.m., with several neighboring hours also performing well). Publishing an `Ask HN` thread during this window increases the likelihood of a lively discussion.\n"
   ]
  },
  {
   "cell_type": "markdown",
   "id": "100b4765",
   "metadata": {},
   "source": [
    "### Takeaway\n"
   ]
  },
  {
   "cell_type": "markdown",
   "id": "08ef4bce",
   "metadata": {},
   "source": [
    "If your goal is to gather feedback or start a conversation on Hacker News, frame your submission as an Ask HN question and schedule it for the early-afternoon traffic surge. Doing so significantly boosts the odds that the HN community will notice and comment on your post.\n"
   ]
  }
 ],
 "metadata": {
  "kernelspec": {
   "display_name": ".venv",
   "language": "python",
   "name": "python3"
  },
  "language_info": {
   "codemirror_mode": {
    "name": "ipython",
    "version": 3
   },
   "file_extension": ".py",
   "mimetype": "text/x-python",
   "name": "python",
   "nbconvert_exporter": "python",
   "pygments_lexer": "ipython3",
   "version": "3.12.10"
  }
 },
 "nbformat": 4,
 "nbformat_minor": 5
}
